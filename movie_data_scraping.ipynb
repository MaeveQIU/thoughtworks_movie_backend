{
 "cells": [
  {
   "cell_type": "code",
   "execution_count": 1,
   "metadata": {},
   "outputs": [],
   "source": [
    "import pandas as pd\n",
    "import urllib.request\n",
    "import requests\n",
    "import json\n",
    "import time"
   ]
  },
  {
   "cell_type": "markdown",
   "metadata": {},
   "source": [
    "### Add New Column (Durantion, Countries, Tags, Summary)"
   ]
  },
  {
   "cell_type": "code",
   "execution_count": 15,
   "metadata": {},
   "outputs": [
    {
     "data": {
      "text/html": [
       "<div>\n",
       "<style scoped>\n",
       "    .dataframe tbody tr th:only-of-type {\n",
       "        vertical-align: middle;\n",
       "    }\n",
       "\n",
       "    .dataframe tbody tr th {\n",
       "        vertical-align: top;\n",
       "    }\n",
       "\n",
       "    .dataframe thead th {\n",
       "        text-align: right;\n",
       "    }\n",
       "</style>\n",
       "<table border=\"1\" class=\"dataframe\">\n",
       "  <thead>\n",
       "    <tr style=\"text-align: right;\">\n",
       "      <th></th>\n",
       "      <th>movie_id</th>\n",
       "      <th>title</th>\n",
       "      <th>year</th>\n",
       "      <th>genres</th>\n",
       "      <th>rating</th>\n",
       "      <th>directors</th>\n",
       "      <th>casts</th>\n",
       "      <th>image</th>\n",
       "    </tr>\n",
       "  </thead>\n",
       "  <tbody>\n",
       "    <tr>\n",
       "      <td>0</td>\n",
       "      <td>1291545</td>\n",
       "      <td>大鱼</td>\n",
       "      <td>2003</td>\n",
       "      <td>剧情,家庭,奇幻</td>\n",
       "      <td>8.7</td>\n",
       "      <td>蒂姆·波顿</td>\n",
       "      <td>伊万·麦克格雷格,阿尔伯特·芬尼,比利·克鲁德普</td>\n",
       "      <td>https://img3.doubanio.com/view/movie_poster_co...</td>\n",
       "    </tr>\n",
       "    <tr>\n",
       "      <td>1</td>\n",
       "      <td>1291546</td>\n",
       "      <td>霸王别姬</td>\n",
       "      <td>1993</td>\n",
       "      <td>剧情,爱情,同性</td>\n",
       "      <td>9.5</td>\n",
       "      <td>陈凯歌</td>\n",
       "      <td>张国荣,张丰毅,巩俐</td>\n",
       "      <td>https://img3.doubanio.com/view/movie_poster_co...</td>\n",
       "    </tr>\n",
       "    <tr>\n",
       "      <td>2</td>\n",
       "      <td>1291548</td>\n",
       "      <td>死亡诗社</td>\n",
       "      <td>1989</td>\n",
       "      <td>剧情</td>\n",
       "      <td>8.9</td>\n",
       "      <td>彼得·威尔</td>\n",
       "      <td>罗宾·威廉姆斯,罗伯特·肖恩·莱纳德,伊桑·霍克</td>\n",
       "      <td>https://img3.doubanio.com/view/movie_poster_co...</td>\n",
       "    </tr>\n",
       "    <tr>\n",
       "      <td>3</td>\n",
       "      <td>1291549</td>\n",
       "      <td>放牛班的春天</td>\n",
       "      <td>2004</td>\n",
       "      <td>剧情,音乐</td>\n",
       "      <td>9.2</td>\n",
       "      <td>克里斯托夫·巴拉蒂</td>\n",
       "      <td>热拉尔·朱尼奥,让-巴蒂斯特·莫尼耶,弗朗索瓦·贝莱昂</td>\n",
       "      <td>https://img3.doubanio.com/view/movie_poster_co...</td>\n",
       "    </tr>\n",
       "    <tr>\n",
       "      <td>4</td>\n",
       "      <td>1291552</td>\n",
       "      <td>指环王3：王者无敌</td>\n",
       "      <td>2003</td>\n",
       "      <td>剧情,动作,奇幻</td>\n",
       "      <td>9.1</td>\n",
       "      <td>彼得·杰克逊</td>\n",
       "      <td>维果·莫腾森,伊利亚·伍德,西恩·奥斯汀</td>\n",
       "      <td>https://img3.doubanio.com/view/movie_poster_co...</td>\n",
       "    </tr>\n",
       "  </tbody>\n",
       "</table>\n",
       "</div>"
      ],
      "text/plain": [
       "   movie_id      title  year    genres  rating  directors  \\\n",
       "0   1291545         大鱼  2003  剧情,家庭,奇幻     8.7      蒂姆·波顿   \n",
       "1   1291546       霸王别姬  1993  剧情,爱情,同性     9.5        陈凯歌   \n",
       "2   1291548       死亡诗社  1989        剧情     8.9      彼得·威尔   \n",
       "3   1291549     放牛班的春天  2004     剧情,音乐     9.2  克里斯托夫·巴拉蒂   \n",
       "4   1291552  指环王3：王者无敌  2003  剧情,动作,奇幻     9.1     彼得·杰克逊   \n",
       "\n",
       "                         casts  \\\n",
       "0     伊万·麦克格雷格,阿尔伯特·芬尼,比利·克鲁德普   \n",
       "1                   张国荣,张丰毅,巩俐   \n",
       "2     罗宾·威廉姆斯,罗伯特·肖恩·莱纳德,伊桑·霍克   \n",
       "3  热拉尔·朱尼奥,让-巴蒂斯特·莫尼耶,弗朗索瓦·贝莱昂   \n",
       "4         维果·莫腾森,伊利亚·伍德,西恩·奥斯汀   \n",
       "\n",
       "                                               image  \n",
       "0  https://img3.doubanio.com/view/movie_poster_co...  \n",
       "1  https://img3.doubanio.com/view/movie_poster_co...  \n",
       "2  https://img3.doubanio.com/view/movie_poster_co...  \n",
       "3  https://img3.doubanio.com/view/movie_poster_co...  \n",
       "4  https://img3.doubanio.com/view/movie_poster_co...  "
      ]
     },
     "execution_count": 15,
     "metadata": {},
     "output_type": "execute_result"
    }
   ],
   "source": [
    "movies = pd.read_csv(\"./thoughtworks_movie_backend/movies.csv\")\n",
    "movies = movies.drop(columns = \"alt\").drop(columns = \"original_title\")\n",
    "movies = movies[[\"id\", \"title\", \"year\", \"genres\", \"rating\", \"directors\", \"casts\", \"image\"]]\n",
    "movies = movies.rename(columns = {\"id\": \"movie_id\"})\n",
    "movies.head()"
   ]
  },
  {
   "cell_type": "code",
   "execution_count": 54,
   "metadata": {},
   "outputs": [],
   "source": [
    "durations = []\n",
    "countries = []\n",
    "tags = []\n",
    "summary = []"
   ]
  },
  {
   "cell_type": "code",
   "execution_count": 58,
   "metadata": {},
   "outputs": [],
   "source": [
    "headers = {\"User-Agent\": \"Mozilla/5.0 (Macintosh; Intel Mac OS X 10_15_2) AppleWebKit/537.36 (KHTML, like Gecko) Chrome/83.0.4103.7 Safari/537.36\"}\n",
    "for i in movies[\"movie_id\"]:\n",
    "    url = \"https://api.douban.com/v2/movie/subject/\" + str(i) + \"?apikey=0df993c66c0c636e29ecbb5344252a4a\"\n",
    "    response = requests.get(url,headers = headers).text\n",
    "    response = json.loads(response)\n",
    "    durations.append(response[\"durations\"][0])\n",
    "    countries.append(response[\"countries\"][0])\n",
    "    tags.append(\",\".join(response[\"tags\"]))\n",
    "    summary.append(response[\"summary\"])\n",
    "    time.sleep(1)"
   ]
  },
  {
   "cell_type": "code",
   "execution_count": 93,
   "metadata": {},
   "outputs": [],
   "source": [
    "movies[\"duration\"] = durations\n",
    "movies[\"countries\"] = countries\n",
    "movies[\"tags\"] = tags\n",
    "movies[\"summary\"] = summary\n",
    "movies = movies[[\"movie_id\", \"title\", \"year\", \"genres\", \"rating\", \"directors\", \"casts\", \"duration\", \"image\", \"countries\", \"tags\", \"summary\"]]"
   ]
  },
  {
   "cell_type": "code",
   "execution_count": 95,
   "metadata": {},
   "outputs": [],
   "source": [
    "movies.to_csv('movie_basic.csv', index = False)"
   ]
  },
  {
   "cell_type": "markdown",
   "metadata": {},
   "source": [
    "### Substitute Image Column"
   ]
  },
  {
   "cell_type": "code",
   "execution_count": 11,
   "metadata": {},
   "outputs": [
    {
     "name": "stdout",
     "output_type": "stream",
     "text": [
      "['https://img9.doubanio.com/view/photo/s_ratio_poster/public/p692813374.jpg', 'https://img3.doubanio.com/view/photo/s_ratio_poster/public/p2561716440.jpg', 'https://img3.doubanio.com/view/photo/s_ratio_poster/public/p2575465690.jpg', 'https://img3.doubanio.com/view/photo/s_ratio_poster/public/p1910824951.jpg', 'https://img3.doubanio.com/view/photo/s_ratio_poster/public/p1910825503.jpg', 'https://img9.doubanio.com/view/photo/s_ratio_poster/public/p1910828286.jpg', 'https://img9.doubanio.com/view/photo/s_ratio_poster/public/p2540924496.jpg', 'https://img1.doubanio.com/view/photo/s_ratio_poster/public/p2557573348.jpg', 'https://img9.doubanio.com/view/photo/s_ratio_poster/public/p1925331564.jpg', 'https://img3.doubanio.com/view/photo/s_ratio_poster/public/p1354436051.jpg', 'https://img9.doubanio.com/view/photo/s_ratio_poster/public/p909265336.jpg', 'https://img1.doubanio.com/view/photo/s_ratio_poster/public/p1910895719.jpg', 'https://img1.doubanio.com/view/photo/s_ratio_poster/public/p2513247938.jpg', 'https://img1.doubanio.com/view/photo/s_ratio_poster/public/p1446261379.jpg', 'https://img3.doubanio.com/view/photo/s_ratio_poster/public/p1917567652.jpg', 'https://img3.doubanio.com/view/photo/s_ratio_poster/public/p1910899751.jpg', 'https://img3.doubanio.com/view/photo/s_ratio_poster/public/p470419493.jpg', 'https://img3.doubanio.com/view/photo/s_ratio_poster/public/p1910900710.jpg', 'https://img1.doubanio.com/view/photo/s_ratio_poster/public/p2559577569.jpg', 'https://img3.doubanio.com/view/photo/s_ratio_poster/public/p1910902213.jpg', 'https://img9.doubanio.com/view/photo/s_ratio_poster/public/p616779645.jpg', 'https://img1.doubanio.com/view/photo/s_ratio_poster/public/p451926968.jpg', 'https://img9.doubanio.com/view/photo/s_ratio_poster/public/p1910909085.jpg', 'https://img3.doubanio.com/view/photo/s_ratio_poster/public/p2408623752.jpg', 'https://img1.doubanio.com/view/photo/s_ratio_poster/public/p2553104888.jpg', 'https://img3.doubanio.com/view/photo/s_ratio_poster/public/p942376281.jpg', 'https://img9.doubanio.com/view/photo/s_ratio_poster/public/p2564685215.jpg', 'https://img1.doubanio.com/view/photo/s_ratio_poster/public/p2564689879.jpg', 'https://img3.doubanio.com/view/photo/s_ratio_poster/public/p1910924221.jpg', 'https://img9.doubanio.com/view/photo/s_ratio_poster/public/p1910924635.jpg', 'https://img3.doubanio.com/view/photo/s_ratio_poster/public/p792381411.jpg', 'https://img1.doubanio.com/view/photo/s_ratio_poster/public/p1910926158.jpg', 'https://img9.doubanio.com/view/photo/s_ratio_poster/public/p2574551676.jpg', 'https://img3.doubanio.com/view/photo/s_ratio_poster/public/p480747492.jpg', 'https://img1.doubanio.com/view/photo/s_ratio_poster/public/p2464686077.jpg', 'https://img9.doubanio.com/view/photo/s_ratio_poster/public/p1309847196.jpg', 'https://img3.doubanio.com/view/photo/s_ratio_poster/public/p2578474613.jpg', 'https://img3.doubanio.com/view/photo/s_ratio_poster/public/p479682972.jpg', 'https://img3.doubanio.com/view/photo/s_ratio_poster/public/p455677490.jpg', 'https://img9.doubanio.com/view/photo/s_ratio_poster/public/p2455050536.jpg', 'https://img9.doubanio.com/view/photo/s_ratio_poster/public/p2537319495.jpg', 'https://img3.doubanio.com/view/photo/s_ratio_poster/public/p2447590313.jpg', 'https://img3.doubanio.com/view/photo/s_ratio_poster/public/p792248233.jpg', 'https://img9.doubanio.com/view/photo/s_ratio_poster/public/p2239441575.jpg', 'https://img1.doubanio.com/view/photo/s_ratio_poster/public/p449897379.jpg', 'https://img9.doubanio.com/view/photo/s_ratio_poster/public/p2219586434.jpg', 'https://img1.doubanio.com/view/photo/s_ratio_poster/public/p792238287.jpg', 'https://img9.doubanio.com/view/photo/s_ratio_poster/public/p529908155.jpg', 'https://img1.doubanio.com/view/photo/s_ratio_poster/public/p477229647.jpg', 'https://img9.doubanio.com/view/photo/s_ratio_poster/public/p2328516855.jpg', 'https://img1.doubanio.com/view/photo/s_ratio_poster/public/p854757687.jpg', 'https://img1.doubanio.com/view/photo/s_ratio_poster/public/p2238274168.jpg', 'https://img1.doubanio.com/view/photo/s_ratio_poster/public/p1421018669.jpg', 'https://img3.doubanio.com/view/photo/s_ratio_poster/public/p1982176012.jpg', 'https://img9.doubanio.com/view/photo/s_ratio_poster/public/p848381236.jpg', 'https://img1.doubanio.com/view/photo/s_ratio_poster/public/p2209066019.jpg', 'https://img3.doubanio.com/view/photo/s_ratio_poster/public/p2513253791.jpg', 'https://img1.doubanio.com/view/photo/s_ratio_poster/public/p480956937.jpg', 'https://img3.doubanio.com/view/photo/s_ratio_poster/public/p475600770.jpg', 'https://img1.doubanio.com/view/photo/s_ratio_poster/public/p2441988159.jpg', 'https://img3.doubanio.com/view/photo/s_ratio_poster/public/p2567845803.jpg', 'https://img1.doubanio.com/view/photo/s_ratio_poster/public/p513567548.jpg', 'https://img9.doubanio.com/view/photo/s_ratio_poster/public/p480965695.jpg', 'https://img3.doubanio.com/view/photo/s_ratio_poster/public/p2173855883.jpg', 'https://img3.doubanio.com/view/photo/s_ratio_poster/public/p465939041.jpg', 'https://img9.doubanio.com/view/photo/s_ratio_poster/public/p1484728154.jpg', 'https://img9.doubanio.com/view/photo/s_ratio_poster/public/p457760035.jpg', 'https://img9.doubanio.com/view/photo/s_ratio_poster/public/p636048104.jpg', 'https://img9.doubanio.com/view/photo/s_ratio_poster/public/p1014542496.jpg', 'https://img3.doubanio.com/view/photo/s_ratio_poster/public/p452089833.jpg', 'https://img9.doubanio.com/view/photo/s_ratio_poster/public/p1021883305.jpg', 'https://img3.doubanio.com/view/photo/s_ratio_poster/public/p2173577632.jpg', 'https://img1.doubanio.com/view/photo/s_ratio_poster/public/p1157334208.jpg', 'https://img1.doubanio.com/view/photo/s_ratio_poster/public/p792443418.jpg', 'https://img9.doubanio.com/view/photo/s_ratio_poster/public/p751835224.jpg', 'https://img9.doubanio.com/view/photo/s_ratio_poster/public/p1612355875.jpg', 'https://img1.doubanio.com/view/photo/s_ratio_poster/public/p1593414327.jpg', 'https://img1.doubanio.com/view/photo/s_ratio_poster/public/p499158228.jpg', 'https://img9.doubanio.com/view/photo/s_ratio_poster/public/p2189265085.jpg', 'https://img1.doubanio.com/view/photo/s_ratio_poster/public/p2170238828.jpg', 'https://img1.doubanio.com/view/photo/s_ratio_poster/public/p2190558219.jpg', 'https://img1.doubanio.com/view/photo/s_ratio_poster/public/p2351134499.jpg', 'https://img3.doubanio.com/view/photo/s_ratio_poster/public/p2169664351.jpg', 'https://img1.doubanio.com/view/photo/s_ratio_poster/public/p2263408369.jpg', 'https://img3.doubanio.com/view/photo/s_ratio_poster/public/p2189265302.jpg', 'https://img3.doubanio.com/view/photo/s_ratio_poster/public/p984732992.jpg', 'https://img3.doubanio.com/view/photo/s_ratio_poster/public/p1374546770.jpg', 'https://img9.doubanio.com/view/photo/s_ratio_poster/public/p2591591494.jpg', 'https://img3.doubanio.com/view/photo/s_ratio_poster/public/p492406163.jpg', 'https://img3.doubanio.com/view/photo/s_ratio_poster/public/p2565471701.jpg', 'https://img9.doubanio.com/view/photo/s_ratio_poster/public/p2272146906.jpg', 'https://img3.doubanio.com/view/photo/s_ratio_poster/public/p511118051.jpg', 'https://img1.doubanio.com/view/photo/s_ratio_poster/public/p1023654037.jpg', 'https://img1.doubanio.com/view/photo/s_ratio_poster/public/p1505392928.jpg', 'https://img9.doubanio.com/view/photo/s_ratio_poster/public/p2555762374.jpg', 'https://img3.doubanio.com/view/photo/s_ratio_poster/public/p792376093.jpg', 'https://img9.doubanio.com/view/photo/s_ratio_poster/public/p2247003945.jpg', 'https://img3.doubanio.com/view/photo/s_ratio_poster/public/p2399597512.jpg', 'https://img3.doubanio.com/view/photo/s_ratio_poster/public/p456692072.jpg', 'https://img9.doubanio.com/view/photo/s_ratio_poster/public/p2558364386.jpg', 'https://img9.doubanio.com/view/photo/s_ratio_poster/public/p1613191025.jpg', 'https://img9.doubanio.com/view/photo/s_ratio_poster/public/p2414157745.jpg', 'https://img1.doubanio.com/view/photo/s_ratio_poster/public/p2173719647.jpg', 'https://img1.doubanio.com/view/photo/s_ratio_poster/public/p2504997087.jpg', 'https://img9.doubanio.com/view/photo/s_ratio_poster/public/p2220184425.jpg', 'https://img9.doubanio.com/view/photo/s_ratio_poster/public/p1596085504.jpg', 'https://img1.doubanio.com/view/photo/s_ratio_poster/public/p2550757929.jpg', 'https://img9.doubanio.com/view/photo/s_ratio_poster/public/p2207673534.jpg', 'https://img1.doubanio.com/view/photo/s_ratio_poster/public/p2194138787.jpg', 'https://img3.doubanio.com/view/photo/s_ratio_poster/public/p1353910572.jpg', 'https://img9.doubanio.com/view/photo/s_ratio_poster/public/p2107418134.jpg', 'https://img3.doubanio.com/view/photo/s_ratio_poster/public/p2561721372.jpg', 'https://img9.doubanio.com/view/photo/s_ratio_poster/public/p2195672555.jpg', 'https://img3.doubanio.com/view/photo/s_ratio_poster/public/p1963126880.jpg', 'https://img1.doubanio.com/view/photo/s_ratio_poster/public/p2326071698.jpg', 'https://img3.doubanio.com/view/photo/s_ratio_poster/public/p767586451.jpg', 'https://img3.doubanio.com/view/photo/s_ratio_poster/public/p1538646661.jpg', 'https://img1.doubanio.com/view/photo/s_ratio_poster/public/p455724599.jpg', 'https://img3.doubanio.com/view/photo/s_ratio_poster/public/p792403691.jpg', 'https://img1.doubanio.com/view/photo/s_ratio_poster/public/p616753227.jpg', 'https://img1.doubanio.com/view/photo/s_ratio_poster/public/p2277799019.jpg', 'https://img1.doubanio.com/view/photo/s_ratio_poster/public/p2579932167.jpg', 'https://img1.doubanio.com/view/photo/s_ratio_poster/public/p443461818.jpg', 'https://img3.doubanio.com/view/photo/s_ratio_poster/public/p804938713.jpg', 'https://img1.doubanio.com/view/photo/s_ratio_poster/public/p792257137.jpg', 'https://img9.doubanio.com/view/photo/s_ratio_poster/public/p2173580536.jpg', 'https://img9.doubanio.com/view/photo/s_ratio_poster/public/p2173713676.jpg', 'https://img9.doubanio.com/view/photo/s_ratio_poster/public/p584021784.jpg', 'https://img3.doubanio.com/view/photo/s_ratio_poster/public/p1597183981.jpg', 'https://img3.doubanio.com/view/photo/s_ratio_poster/public/p641688453.jpg', 'https://img9.doubanio.com/view/photo/s_ratio_poster/public/p2223011274.jpg', 'https://img3.doubanio.com/view/photo/s_ratio_poster/public/p453924541.jpg', 'https://img3.doubanio.com/view/photo/s_ratio_poster/public/p2525770523.jpg', 'https://img1.doubanio.com/view/photo/s_ratio_poster/public/p2186861098.jpg', 'https://img3.doubanio.com/view/photo/s_ratio_poster/public/p1665997400.jpg', 'https://img9.doubanio.com/view/photo/s_ratio_poster/public/p2357915564.jpg', 'https://img9.doubanio.com/view/photo/s_ratio_poster/public/p652417775.jpg', 'https://img3.doubanio.com/view/photo/s_ratio_poster/public/p2516566783.jpg', 'https://img3.doubanio.com/view/photo/s_ratio_poster/public/p532195562.jpg', 'https://img3.doubanio.com/view/photo/s_ratio_poster/public/p456676352.jpg', 'https://img3.doubanio.com/view/photo/s_ratio_poster/public/p2564556863.jpg', 'https://img9.doubanio.com/view/photo/s_ratio_poster/public/p2562341754.jpg', 'https://img9.doubanio.com/view/photo/s_ratio_poster/public/p667644866.jpg', 'https://img9.doubanio.com/view/photo/s_ratio_poster/public/p479565065.jpg', 'https://img3.doubanio.com/view/photo/s_ratio_poster/public/p2174346180.jpg', 'https://img3.doubanio.com/view/photo/s_ratio_poster/public/p2414771522.jpg', 'https://img1.doubanio.com/view/photo/s_ratio_poster/public/p2173716829.jpg', 'https://img3.doubanio.com/view/photo/s_ratio_poster/public/p1465235231.jpg', 'https://img9.doubanio.com/view/photo/s_ratio_poster/public/p483604864.jpg', 'https://img1.doubanio.com/view/photo/s_ratio_poster/public/p2535922598.jpg', 'https://img3.doubanio.com/view/photo/s_ratio_poster/public/p2075132390.jpg', 'https://img3.doubanio.com/view/photo/s_ratio_poster/public/p1351050722.jpg', 'https://img3.doubanio.com/view/photo/s_ratio_poster/public/p2561545031.jpg', 'https://img1.doubanio.com/view/photo/s_ratio_poster/public/p2101693489.jpg', 'https://img9.doubanio.com/view/photo/s_ratio_poster/public/p2565332644.jpg', 'https://img1.doubanio.com/view/photo/s_ratio_poster/public/p2184505167.jpg', 'https://img9.doubanio.com/view/photo/s_ratio_poster/public/p452005185.jpg', 'https://img3.doubanio.com/view/photo/s_ratio_poster/public/p2154212680.jpg', 'https://img3.doubanio.com/view/photo/s_ratio_poster/public/p792282381.jpg', 'https://img3.doubanio.com/view/photo/s_ratio_poster/public/p1244017073.jpg', 'https://img1.doubanio.com/view/photo/s_ratio_poster/public/p2575043939.jpg', 'https://img3.doubanio.com/view/photo/s_ratio_poster/public/p2192535722.jpg', 'https://img1.doubanio.com/view/photo/s_ratio_poster/public/p792223507.jpg', 'https://img1.doubanio.com/view/photo/s_ratio_poster/public/p2180085848.jpg', 'https://img9.doubanio.com/view/photo/s_ratio_poster/public/p2441127736.jpg', 'https://img9.doubanio.com/view/photo/s_ratio_poster/public/p480383375.jpg', 'https://img9.doubanio.com/view/photo/s_ratio_poster/public/p884763596.jpg', 'https://img1.doubanio.com/view/photo/s_ratio_poster/public/p2166160837.jpg', 'https://img1.doubanio.com/view/photo/s_ratio_poster/public/p1312700628.jpg', 'https://img3.doubanio.com/view/photo/s_ratio_poster/public/p462657443.jpg', 'https://img1.doubanio.com/view/photo/s_ratio_poster/public/p1283675359.jpg', 'https://img3.doubanio.com/view/photo/s_ratio_poster/public/p712241453.jpg', 'https://img3.doubanio.com/view/photo/s_ratio_poster/public/p456825720.jpg', 'https://img9.doubanio.com/view/photo/s_ratio_poster/public/p708613284.jpg', 'https://img3.doubanio.com/view/photo/s_ratio_poster/public/p2206088801.jpg', 'https://img1.doubanio.com/view/photo/s_ratio_poster/public/p1808872109.jpg', 'https://img1.doubanio.com/view/photo/s_ratio_poster/public/p465687407.jpg', 'https://img1.doubanio.com/view/photo/s_ratio_poster/public/p1867084027.jpg', 'https://img3.doubanio.com/view/photo/s_ratio_poster/public/p1784592701.jpg', 'https://img9.doubanio.com/view/photo/s_ratio_poster/public/p2079334286.jpg', 'https://img3.doubanio.com/view/photo/s_ratio_poster/public/p1576418852.jpg', 'https://img9.doubanio.com/view/photo/s_ratio_poster/public/p2549648344.jpg', 'https://img3.doubanio.com/view/photo/s_ratio_poster/public/p982896012.jpg', 'https://img3.doubanio.com/view/photo/s_ratio_poster/public/p2173720203.jpg', 'https://img9.doubanio.com/view/photo/s_ratio_poster/public/p485887754.jpg', 'https://img3.doubanio.com/view/photo/s_ratio_poster/public/p1461851991.jpg', 'https://img1.doubanio.com/view/photo/s_ratio_poster/public/p594972928.jpg', 'https://img3.doubanio.com/view/photo/s_ratio_poster/public/p2434249040.jpg', 'https://img1.doubanio.com/view/photo/s_ratio_poster/public/p1140984198.jpg', 'https://img3.doubanio.com/view/photo/s_ratio_poster/public/p1344888983.jpg', 'https://img9.doubanio.com/view/photo/s_ratio_poster/public/p513303986.jpg', 'https://img1.doubanio.com/view/photo/s_ratio_poster/public/p1832875827.jpg', 'https://img9.doubanio.com/view/photo/s_ratio_poster/public/p2210954024.jpg', 'https://img9.doubanio.com/view/photo/s_ratio_poster/public/p1973489335.jpg', 'https://img1.doubanio.com/view/photo/s_ratio_poster/public/p1024585648.jpg', 'https://img3.doubanio.com/view/photo/s_ratio_poster/public/p769608791.jpg', 'https://img3.doubanio.com/view/photo/s_ratio_poster/public/p1473670352.jpg', 'https://img9.doubanio.com/view/photo/s_ratio_poster/public/p462470694.jpg', 'https://img9.doubanio.com/view/photo/s_ratio_poster/public/p524964016.jpg', 'https://img3.doubanio.com/view/photo/s_ratio_poster/public/p917846733.jpg', 'https://img9.doubanio.com/view/photo/s_ratio_poster/public/p2162822165.jpg', 'https://img9.doubanio.com/view/photo/s_ratio_poster/public/p449399746.jpg', 'https://img9.doubanio.com/view/photo/s_ratio_poster/public/p988260245.jpg', 'https://img1.doubanio.com/view/photo/s_ratio_poster/public/p465446537.jpg', 'https://img9.doubanio.com/view/photo/s_ratio_poster/public/p1145536386.jpg', 'https://img1.doubanio.com/view/photo/s_ratio_poster/public/p792776858.jpg', 'https://img1.doubanio.com/view/photo/s_ratio_poster/public/p501177648.jpg', 'https://img9.doubanio.com/view/photo/s_ratio_poster/public/p1706428744.jpg', 'https://img1.doubanio.com/view/photo/s_ratio_poster/public/p2559579779.jpg', 'https://img9.doubanio.com/view/photo/s_ratio_poster/public/p2559581324.jpg', 'https://img9.doubanio.com/view/photo/s_ratio_poster/public/p513344864.jpg', 'https://img1.doubanio.com/view/photo/s_ratio_poster/public/p1512562287.jpg', 'https://img3.doubanio.com/view/photo/s_ratio_poster/public/p456666151.jpg', 'https://img3.doubanio.com/view/photo/s_ratio_poster/public/p579729551.jpg', 'https://img1.doubanio.com/view/photo/s_ratio_poster/public/p768879237.jpg', 'https://img9.doubanio.com/view/photo/s_ratio_poster/public/p617533616.jpg', 'https://img9.doubanio.com/view/photo/s_ratio_poster/public/p689520756.jpg', 'https://img1.doubanio.com/view/photo/s_ratio_poster/public/p767451487.jpg', 'https://img1.doubanio.com/view/photo/s_ratio_poster/public/p628364149.jpg', 'https://img1.doubanio.com/view/photo/s_ratio_poster/public/p1374786017.jpg', 'https://img3.doubanio.com/view/photo/s_ratio_poster/public/p1305562621.jpg', 'https://img1.doubanio.com/view/photo/s_ratio_poster/public/p1075591188.jpg', 'https://img9.doubanio.com/view/photo/s_ratio_poster/public/p1363250216.jpg', 'https://img9.doubanio.com/view/photo/s_ratio_poster/public/p2189835254.jpg', 'https://img3.doubanio.com/view/photo/s_ratio_poster/public/p1675053073.jpg', 'https://img3.doubanio.com/view/photo/s_ratio_poster/public/p1779492381.jpg', 'https://img1.doubanio.com/view/photo/s_ratio_poster/public/p1959232369.jpg', 'https://img9.doubanio.com/view/photo/s_ratio_poster/public/p1735642656.jpg', 'https://img9.doubanio.com/view/photo/s_ratio_poster/public/p1454261925.jpg', 'https://img3.doubanio.com/view/photo/s_ratio_poster/public/p2250287733.jpg', 'https://img1.doubanio.com/view/photo/s_ratio_poster/public/p1546987967.jpg', 'https://img3.doubanio.com/view/photo/s_ratio_poster/public/p2255040492.jpg', 'https://img9.doubanio.com/view/photo/s_ratio_poster/public/p2266293606.jpg', 'https://img9.doubanio.com/view/photo/s_ratio_poster/public/p2070153774.jpg', 'https://img9.doubanio.com/view/photo/s_ratio_poster/public/p1816276065.jpg', 'https://img1.doubanio.com/view/photo/s_ratio_poster/public/p2074715729.jpg', 'https://img1.doubanio.com/view/photo/s_ratio_poster/public/p2224568669.jpg', 'https://img3.doubanio.com/view/photo/s_ratio_poster/public/p2178872593.jpg', 'https://img9.doubanio.com/view/photo/s_ratio_poster/public/p2221768894.jpg', 'https://img9.doubanio.com/view/photo/s_ratio_poster/public/p2016930906.jpg', 'https://img9.doubanio.com/view/photo/s_ratio_poster/public/p2158166535.jpg', 'https://img9.doubanio.com/view/photo/s_ratio_poster/public/p2118532944.jpg', 'https://img9.doubanio.com/view/photo/s_ratio_poster/public/p2231250054.jpg', 'https://img1.doubanio.com/view/photo/s_ratio_poster/public/p2315672647.jpg', 'https://img9.doubanio.com/view/photo/s_ratio_poster/public/p2259715855.jpg', 'https://img3.doubanio.com/view/photo/s_ratio_poster/public/p2220776342.jpg', 'https://img9.doubanio.com/view/photo/s_ratio_poster/public/p2187896734.jpg', 'https://img3.doubanio.com/view/photo/s_ratio_poster/public/p2564498893.jpg', 'https://img3.doubanio.com/view/photo/s_ratio_poster/public/p2258078370.jpg', 'https://img9.doubanio.com/view/photo/s_ratio_poster/public/p2276780256.jpg']\n"
     ]
    }
   ],
   "source": [
    "movies = pd.read_csv(\"./movie_basic.csv\")\n",
    "images = []\n",
    "\n",
    "headers = {\"User-Agent\": \"Mozilla/5.0 (Macintosh; Intel Mac OS X 10_15_2) AppleWebKit/537.36 (KHTML, like Gecko) Chrome/83.0.4103.7 Safari/537.36\"}\n",
    "for i in movies[\"movie_id\"]:\n",
    "    url = \"https://api.douban.com/v2/movie/subject/\" + str(i) + \"?apikey=0df993c66c0c636e29ecbb5344252a4a\"\n",
    "    response = requests.get(url,headers = headers).text\n",
    "    response = json.loads(response)\n",
    "    images.append(response[\"images\"][\"small\"])\n",
    "    time.sleep(.5)\n",
    "print(images)\n",
    "movies = movies.drop(columns = \"image\")\n",
    "movies[\"image\"] = images\n",
    "movies.to_csv('movie_basic.csv', index = False)"
   ]
  },
  {
   "cell_type": "code",
   "execution_count": null,
   "metadata": {},
   "outputs": [],
   "source": []
  },
  {
   "cell_type": "code",
   "execution_count": null,
   "metadata": {},
   "outputs": [],
   "source": []
  },
  {
   "cell_type": "code",
   "execution_count": null,
   "metadata": {},
   "outputs": [],
   "source": []
  },
  {
   "cell_type": "code",
   "execution_count": null,
   "metadata": {},
   "outputs": [],
   "source": []
  }
 ],
 "metadata": {
  "kernelspec": {
   "display_name": "Python 3",
   "language": "python",
   "name": "python3"
  },
  "language_info": {
   "codemirror_mode": {
    "name": "ipython",
    "version": 3
   },
   "file_extension": ".py",
   "mimetype": "text/x-python",
   "name": "python",
   "nbconvert_exporter": "python",
   "pygments_lexer": "ipython3",
   "version": "3.7.4"
  }
 },
 "nbformat": 4,
 "nbformat_minor": 4
}
