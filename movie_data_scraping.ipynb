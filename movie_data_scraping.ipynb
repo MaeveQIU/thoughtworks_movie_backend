{
 "cells": [
  {
   "cell_type": "code",
   "execution_count": 57,
   "metadata": {},
   "outputs": [],
   "source": [
    "import pandas as pd\n",
    "import urllib.request\n",
    "import requests\n",
    "import json\n",
    "import time"
   ]
  },
  {
   "cell_type": "code",
   "execution_count": 15,
   "metadata": {},
   "outputs": [
    {
     "data": {
      "text/html": [
       "<div>\n",
       "<style scoped>\n",
       "    .dataframe tbody tr th:only-of-type {\n",
       "        vertical-align: middle;\n",
       "    }\n",
       "\n",
       "    .dataframe tbody tr th {\n",
       "        vertical-align: top;\n",
       "    }\n",
       "\n",
       "    .dataframe thead th {\n",
       "        text-align: right;\n",
       "    }\n",
       "</style>\n",
       "<table border=\"1\" class=\"dataframe\">\n",
       "  <thead>\n",
       "    <tr style=\"text-align: right;\">\n",
       "      <th></th>\n",
       "      <th>movie_id</th>\n",
       "      <th>title</th>\n",
       "      <th>year</th>\n",
       "      <th>genres</th>\n",
       "      <th>rating</th>\n",
       "      <th>directors</th>\n",
       "      <th>casts</th>\n",
       "      <th>image</th>\n",
       "    </tr>\n",
       "  </thead>\n",
       "  <tbody>\n",
       "    <tr>\n",
       "      <td>0</td>\n",
       "      <td>1291545</td>\n",
       "      <td>大鱼</td>\n",
       "      <td>2003</td>\n",
       "      <td>剧情,家庭,奇幻</td>\n",
       "      <td>8.7</td>\n",
       "      <td>蒂姆·波顿</td>\n",
       "      <td>伊万·麦克格雷格,阿尔伯特·芬尼,比利·克鲁德普</td>\n",
       "      <td>https://img3.doubanio.com/view/movie_poster_co...</td>\n",
       "    </tr>\n",
       "    <tr>\n",
       "      <td>1</td>\n",
       "      <td>1291546</td>\n",
       "      <td>霸王别姬</td>\n",
       "      <td>1993</td>\n",
       "      <td>剧情,爱情,同性</td>\n",
       "      <td>9.5</td>\n",
       "      <td>陈凯歌</td>\n",
       "      <td>张国荣,张丰毅,巩俐</td>\n",
       "      <td>https://img3.doubanio.com/view/movie_poster_co...</td>\n",
       "    </tr>\n",
       "    <tr>\n",
       "      <td>2</td>\n",
       "      <td>1291548</td>\n",
       "      <td>死亡诗社</td>\n",
       "      <td>1989</td>\n",
       "      <td>剧情</td>\n",
       "      <td>8.9</td>\n",
       "      <td>彼得·威尔</td>\n",
       "      <td>罗宾·威廉姆斯,罗伯特·肖恩·莱纳德,伊桑·霍克</td>\n",
       "      <td>https://img3.doubanio.com/view/movie_poster_co...</td>\n",
       "    </tr>\n",
       "    <tr>\n",
       "      <td>3</td>\n",
       "      <td>1291549</td>\n",
       "      <td>放牛班的春天</td>\n",
       "      <td>2004</td>\n",
       "      <td>剧情,音乐</td>\n",
       "      <td>9.2</td>\n",
       "      <td>克里斯托夫·巴拉蒂</td>\n",
       "      <td>热拉尔·朱尼奥,让-巴蒂斯特·莫尼耶,弗朗索瓦·贝莱昂</td>\n",
       "      <td>https://img3.doubanio.com/view/movie_poster_co...</td>\n",
       "    </tr>\n",
       "    <tr>\n",
       "      <td>4</td>\n",
       "      <td>1291552</td>\n",
       "      <td>指环王3：王者无敌</td>\n",
       "      <td>2003</td>\n",
       "      <td>剧情,动作,奇幻</td>\n",
       "      <td>9.1</td>\n",
       "      <td>彼得·杰克逊</td>\n",
       "      <td>维果·莫腾森,伊利亚·伍德,西恩·奥斯汀</td>\n",
       "      <td>https://img3.doubanio.com/view/movie_poster_co...</td>\n",
       "    </tr>\n",
       "  </tbody>\n",
       "</table>\n",
       "</div>"
      ],
      "text/plain": [
       "   movie_id      title  year    genres  rating  directors  \\\n",
       "0   1291545         大鱼  2003  剧情,家庭,奇幻     8.7      蒂姆·波顿   \n",
       "1   1291546       霸王别姬  1993  剧情,爱情,同性     9.5        陈凯歌   \n",
       "2   1291548       死亡诗社  1989        剧情     8.9      彼得·威尔   \n",
       "3   1291549     放牛班的春天  2004     剧情,音乐     9.2  克里斯托夫·巴拉蒂   \n",
       "4   1291552  指环王3：王者无敌  2003  剧情,动作,奇幻     9.1     彼得·杰克逊   \n",
       "\n",
       "                         casts  \\\n",
       "0     伊万·麦克格雷格,阿尔伯特·芬尼,比利·克鲁德普   \n",
       "1                   张国荣,张丰毅,巩俐   \n",
       "2     罗宾·威廉姆斯,罗伯特·肖恩·莱纳德,伊桑·霍克   \n",
       "3  热拉尔·朱尼奥,让-巴蒂斯特·莫尼耶,弗朗索瓦·贝莱昂   \n",
       "4         维果·莫腾森,伊利亚·伍德,西恩·奥斯汀   \n",
       "\n",
       "                                               image  \n",
       "0  https://img3.doubanio.com/view/movie_poster_co...  \n",
       "1  https://img3.doubanio.com/view/movie_poster_co...  \n",
       "2  https://img3.doubanio.com/view/movie_poster_co...  \n",
       "3  https://img3.doubanio.com/view/movie_poster_co...  \n",
       "4  https://img3.doubanio.com/view/movie_poster_co...  "
      ]
     },
     "execution_count": 15,
     "metadata": {},
     "output_type": "execute_result"
    }
   ],
   "source": [
    "movies = pd.read_csv(\"./thoughtworks_movie_backend/movies.csv\")\n",
    "movies = movies.drop(columns = \"alt\").drop(columns = \"original_title\")\n",
    "movies = movies[[\"id\", \"title\", \"year\", \"genres\", \"rating\", \"directors\", \"casts\", \"image\"]]\n",
    "movies = movies.rename(columns = {\"id\": \"movie_id\"})\n",
    "movies.head()"
   ]
  },
  {
   "cell_type": "code",
   "execution_count": 54,
   "metadata": {},
   "outputs": [],
   "source": [
    "durations = []\n",
    "countries = []\n",
    "tags = []\n",
    "summary = []"
   ]
  },
  {
   "cell_type": "code",
   "execution_count": 58,
   "metadata": {},
   "outputs": [],
   "source": [
    "headers = {\"User-Agent\": \"Mozilla/5.0 (Macintosh; Intel Mac OS X 10_15_2) AppleWebKit/537.36 (KHTML, like Gecko) Chrome/83.0.4103.7 Safari/537.36\"}\n",
    "for i in movies[\"movie_id\"]:\n",
    "    url = \"https://api.douban.com/v2/movie/subject/\" + str(i) + \"?apikey=0df993c66c0c636e29ecbb5344252a4a\"\n",
    "    response = requests.get(url,headers = headers).text\n",
    "    response = json.loads(response)\n",
    "    durations.append(response[\"durations\"][0])\n",
    "    countries.append(response[\"countries\"][0])\n",
    "    tags.append(\",\".join(response[\"tags\"]))\n",
    "    summary.append(response[\"summary\"])\n",
    "    time.sleep(1)"
   ]
  },
  {
   "cell_type": "code",
   "execution_count": 93,
   "metadata": {},
   "outputs": [],
   "source": [
    "movies[\"duration\"] = durations\n",
    "movies[\"countries\"] = countries\n",
    "movies[\"tags\"] = tags\n",
    "movies[\"summary\"] = summary\n",
    "movies = movies[[\"movie_id\", \"title\", \"year\", \"genres\", \"rating\", \"directors\", \"casts\", \"duration\", \"image\", \"countries\", \"tags\", \"summary\"]]"
   ]
  },
  {
   "cell_type": "code",
   "execution_count": 95,
   "metadata": {},
   "outputs": [],
   "source": [
    "movies.to_csv('movie_basic.csv', index = False)"
   ]
  },
  {
   "cell_type": "code",
   "execution_count": null,
   "metadata": {},
   "outputs": [],
   "source": []
  },
  {
   "cell_type": "code",
   "execution_count": null,
   "metadata": {},
   "outputs": [],
   "source": []
  },
  {
   "cell_type": "code",
   "execution_count": null,
   "metadata": {},
   "outputs": [],
   "source": []
  },
  {
   "cell_type": "code",
   "execution_count": null,
   "metadata": {},
   "outputs": [],
   "source": []
  },
  {
   "cell_type": "code",
   "execution_count": null,
   "metadata": {},
   "outputs": [],
   "source": []
  }
 ],
 "metadata": {
  "kernelspec": {
   "display_name": "Python 3",
   "language": "python",
   "name": "python3"
  },
  "language_info": {
   "codemirror_mode": {
    "name": "ipython",
    "version": 3
   },
   "file_extension": ".py",
   "mimetype": "text/x-python",
   "name": "python",
   "nbconvert_exporter": "python",
   "pygments_lexer": "ipython3",
   "version": "3.7.4"
  }
 },
 "nbformat": 4,
 "nbformat_minor": 4
}
